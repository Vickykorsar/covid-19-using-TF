{
 "cells": [
  {
   "cell_type": "code",
   "execution_count": 2,
   "id": "162be4f0",
   "metadata": {},
   "outputs": [],
   "source": [
    "import tensorflow as tf\n",
    "from tensorflow import keras\n",
    "from keras import layers,Sequential\n",
    "from keras.layers import Conv2D,MaxPooling2D,Flatten,Dense,Dropout\n",
    "import os\n",
    "import cv2 as cv\n",
    "import pandas as pd\n",
    "import numpy as np\n",
    "import matplotlib.pyplot as plt\n",
    "%matplotlib inline"
   ]
  },
  {
   "cell_type": "code",
   "execution_count": 18,
   "id": "9048c6b8",
   "metadata": {},
   "outputs": [],
   "source": [
    "path=r\"C:\\Users\\hp laptop\\Downloads\\Covid-19\""
   ]
  },
  {
   "cell_type": "code",
   "execution_count": 19,
   "id": "7b3b70ea",
   "metadata": {},
   "outputs": [
    {
     "data": {
      "text/plain": [
       "['COVID19', 'Normal']"
      ]
     },
     "execution_count": 19,
     "metadata": {},
     "output_type": "execute_result"
    }
   ],
   "source": [
    "dis=os.listdir(path)\n",
    "dis"
   ]
  },
  {
   "cell_type": "code",
   "execution_count": 21,
   "id": "01fa5aa1",
   "metadata": {},
   "outputs": [
    {
     "data": {
      "text/plain": [
       "1"
      ]
     },
     "execution_count": 21,
     "metadata": {},
     "output_type": "execute_result"
    }
   ],
   "source": [
    "dis.index('Normal')"
   ]
  },
  {
   "cell_type": "code",
   "execution_count": 22,
   "id": "2a37948e",
   "metadata": {},
   "outputs": [],
   "source": [
    "Data=[]\n",
    "for i in dis:\n",
    "    A=os.path.join(path,i)\n",
    "    for j in os.listdir(A):\n",
    "        B=os.path.join(A,j)\n",
    "        img=cv.imread(B)\n",
    "        C=cv.resize(img,(150,150))\n",
    "        T=dis.index(i)\n",
    "        Data.append([C,T])"
   ]
  },
  {
   "cell_type": "code",
   "execution_count": 23,
   "id": "df3569a1",
   "metadata": {},
   "outputs": [],
   "source": [
    "i=r\"C:\\Users\\hp laptop\\Downloads\\Covid-19\\COVID19\\C11.jpg\""
   ]
  },
  {
   "cell_type": "code",
   "execution_count": 24,
   "id": "c7d18ff6",
   "metadata": {},
   "outputs": [
    {
     "data": {
      "text/plain": [
       "array([[[0, 0, 0],\n",
       "        [0, 0, 0],\n",
       "        [0, 0, 0],\n",
       "        ...,\n",
       "        [0, 0, 0],\n",
       "        [0, 0, 0],\n",
       "        [0, 0, 0]],\n",
       "\n",
       "       [[0, 0, 0],\n",
       "        [0, 0, 0],\n",
       "        [0, 0, 0],\n",
       "        ...,\n",
       "        [0, 0, 0],\n",
       "        [0, 0, 0],\n",
       "        [0, 0, 0]],\n",
       "\n",
       "       [[0, 0, 0],\n",
       "        [0, 0, 0],\n",
       "        [0, 0, 0],\n",
       "        ...,\n",
       "        [0, 0, 0],\n",
       "        [0, 0, 0],\n",
       "        [0, 0, 0]],\n",
       "\n",
       "       ...,\n",
       "\n",
       "       [[0, 0, 0],\n",
       "        [0, 0, 0],\n",
       "        [0, 0, 0],\n",
       "        ...,\n",
       "        [4, 4, 4],\n",
       "        [1, 1, 1],\n",
       "        [0, 0, 0]],\n",
       "\n",
       "       [[0, 0, 0],\n",
       "        [0, 0, 0],\n",
       "        [0, 0, 0],\n",
       "        ...,\n",
       "        [1, 1, 1],\n",
       "        [0, 0, 0],\n",
       "        [0, 0, 0]],\n",
       "\n",
       "       [[0, 0, 0],\n",
       "        [0, 0, 0],\n",
       "        [0, 0, 0],\n",
       "        ...,\n",
       "        [0, 0, 0],\n",
       "        [0, 0, 0],\n",
       "        [0, 0, 0]]], dtype=uint8)"
      ]
     },
     "execution_count": 24,
     "metadata": {},
     "output_type": "execute_result"
    }
   ],
   "source": [
    "k=cv.imread(i)\n",
    "k"
   ]
  },
  {
   "cell_type": "code",
   "execution_count": 25,
   "id": "0ce08fce",
   "metadata": {},
   "outputs": [
    {
     "data": {
      "text/plain": [
       "(2840, 2972, 3)"
      ]
     },
     "execution_count": 25,
     "metadata": {},
     "output_type": "execute_result"
    }
   ],
   "source": [
    "k.shape"
   ]
  },
  {
   "cell_type": "code",
   "execution_count": 26,
   "id": "70f96d12",
   "metadata": {},
   "outputs": [
    {
     "data": {
      "text/plain": [
       "[array([[[  0,   0,   0],\n",
       "         [  0,   0,   0],\n",
       "         [  0,   0,   0],\n",
       "         ...,\n",
       "         [187, 187, 187],\n",
       "         [187, 187, 187],\n",
       "         [190, 190, 190]],\n",
       " \n",
       "        [[  0,   0,   0],\n",
       "         [  0,   0,   0],\n",
       "         [  0,   0,   0],\n",
       "         ...,\n",
       "         [205, 205, 205],\n",
       "         [199, 199, 199],\n",
       "         [194, 194, 194]],\n",
       " \n",
       "        [[  0,   0,   0],\n",
       "         [  0,   0,   0],\n",
       "         [  0,   0,   0],\n",
       "         ...,\n",
       "         [209, 209, 209],\n",
       "         [217, 217, 217],\n",
       "         [217, 217, 217]],\n",
       " \n",
       "        ...,\n",
       " \n",
       "        [[  0,   0,   0],\n",
       "         [  0,   0,   0],\n",
       "         [  0,   0,   0],\n",
       "         ...,\n",
       "         [111, 111, 111],\n",
       "         [ 72,  72,  72],\n",
       "         [ 37,  37,  37]],\n",
       " \n",
       "        [[  0,   0,   0],\n",
       "         [  0,   0,   0],\n",
       "         [  0,   0,   0],\n",
       "         ...,\n",
       "         [145, 145, 145],\n",
       "         [ 86,  86,  86],\n",
       "         [ 48,  48,  48]],\n",
       " \n",
       "        [[  0,   0,   0],\n",
       "         [  0,   0,   0],\n",
       "         [  0,   0,   0],\n",
       "         ...,\n",
       "         [165, 165, 165],\n",
       "         [167, 167, 167],\n",
       "         [168, 168, 168]]], dtype=uint8),\n",
       " 0]"
      ]
     },
     "execution_count": 26,
     "metadata": {},
     "output_type": "execute_result"
    }
   ],
   "source": [
    "Data[1]"
   ]
  },
  {
   "cell_type": "code",
   "execution_count": 27,
   "id": "f4b19d20",
   "metadata": {},
   "outputs": [
    {
     "data": {
      "text/plain": [
       "60"
      ]
     },
     "execution_count": 27,
     "metadata": {},
     "output_type": "execute_result"
    }
   ],
   "source": [
    "len(Data)"
   ]
  },
  {
   "cell_type": "code",
   "execution_count": null,
   "id": "fbbce70d",
   "metadata": {},
   "outputs": [],
   "source": [
    "import random \n",
    "random.shuffle()"
   ]
  },
  {
   "cell_type": "code",
   "execution_count": null,
   "id": "e6483923",
   "metadata": {},
   "outputs": [],
   "source": []
  },
  {
   "cell_type": "code",
   "execution_count": 28,
   "id": "f520fd40",
   "metadata": {},
   "outputs": [],
   "source": [
    "import random #for shuffle\n",
    "random.shuffle(Data)"
   ]
  },
  {
   "cell_type": "code",
   "execution_count": 30,
   "id": "ad7ece1f",
   "metadata": {},
   "outputs": [],
   "source": [
    "F=[]\n",
    "T=[]\n",
    "for i,j in Data:\n",
    "    F.append(i)\n",
    "    T.append(j)"
   ]
  },
  {
   "cell_type": "code",
   "execution_count": 31,
   "id": "ab5c2f00",
   "metadata": {},
   "outputs": [
    {
     "data": {
      "text/html": [
       "<div>\n",
       "<style scoped>\n",
       "    .dataframe tbody tr th:only-of-type {\n",
       "        vertical-align: middle;\n",
       "    }\n",
       "\n",
       "    .dataframe tbody tr th {\n",
       "        vertical-align: top;\n",
       "    }\n",
       "\n",
       "    .dataframe thead th {\n",
       "        text-align: right;\n",
       "    }\n",
       "</style>\n",
       "<table border=\"1\" class=\"dataframe\">\n",
       "  <thead>\n",
       "    <tr style=\"text-align: right;\">\n",
       "      <th></th>\n",
       "      <th>0</th>\n",
       "      <th>1</th>\n",
       "    </tr>\n",
       "  </thead>\n",
       "  <tbody>\n",
       "    <tr>\n",
       "      <th>0</th>\n",
       "      <td>1</td>\n",
       "      <td>0</td>\n",
       "    </tr>\n",
       "    <tr>\n",
       "      <th>1</th>\n",
       "      <td>1</td>\n",
       "      <td>0</td>\n",
       "    </tr>\n",
       "    <tr>\n",
       "      <th>2</th>\n",
       "      <td>0</td>\n",
       "      <td>1</td>\n",
       "    </tr>\n",
       "    <tr>\n",
       "      <th>3</th>\n",
       "      <td>0</td>\n",
       "      <td>1</td>\n",
       "    </tr>\n",
       "    <tr>\n",
       "      <th>4</th>\n",
       "      <td>1</td>\n",
       "      <td>0</td>\n",
       "    </tr>\n",
       "    <tr>\n",
       "      <th>5</th>\n",
       "      <td>1</td>\n",
       "      <td>0</td>\n",
       "    </tr>\n",
       "    <tr>\n",
       "      <th>6</th>\n",
       "      <td>1</td>\n",
       "      <td>0</td>\n",
       "    </tr>\n",
       "    <tr>\n",
       "      <th>7</th>\n",
       "      <td>0</td>\n",
       "      <td>1</td>\n",
       "    </tr>\n",
       "    <tr>\n",
       "      <th>8</th>\n",
       "      <td>1</td>\n",
       "      <td>0</td>\n",
       "    </tr>\n",
       "    <tr>\n",
       "      <th>9</th>\n",
       "      <td>0</td>\n",
       "      <td>1</td>\n",
       "    </tr>\n",
       "    <tr>\n",
       "      <th>10</th>\n",
       "      <td>1</td>\n",
       "      <td>0</td>\n",
       "    </tr>\n",
       "    <tr>\n",
       "      <th>11</th>\n",
       "      <td>1</td>\n",
       "      <td>0</td>\n",
       "    </tr>\n",
       "    <tr>\n",
       "      <th>12</th>\n",
       "      <td>0</td>\n",
       "      <td>1</td>\n",
       "    </tr>\n",
       "    <tr>\n",
       "      <th>13</th>\n",
       "      <td>1</td>\n",
       "      <td>0</td>\n",
       "    </tr>\n",
       "    <tr>\n",
       "      <th>14</th>\n",
       "      <td>0</td>\n",
       "      <td>1</td>\n",
       "    </tr>\n",
       "    <tr>\n",
       "      <th>15</th>\n",
       "      <td>0</td>\n",
       "      <td>1</td>\n",
       "    </tr>\n",
       "    <tr>\n",
       "      <th>16</th>\n",
       "      <td>1</td>\n",
       "      <td>0</td>\n",
       "    </tr>\n",
       "    <tr>\n",
       "      <th>17</th>\n",
       "      <td>0</td>\n",
       "      <td>1</td>\n",
       "    </tr>\n",
       "    <tr>\n",
       "      <th>18</th>\n",
       "      <td>0</td>\n",
       "      <td>1</td>\n",
       "    </tr>\n",
       "    <tr>\n",
       "      <th>19</th>\n",
       "      <td>0</td>\n",
       "      <td>1</td>\n",
       "    </tr>\n",
       "    <tr>\n",
       "      <th>20</th>\n",
       "      <td>1</td>\n",
       "      <td>0</td>\n",
       "    </tr>\n",
       "    <tr>\n",
       "      <th>21</th>\n",
       "      <td>1</td>\n",
       "      <td>0</td>\n",
       "    </tr>\n",
       "    <tr>\n",
       "      <th>22</th>\n",
       "      <td>0</td>\n",
       "      <td>1</td>\n",
       "    </tr>\n",
       "    <tr>\n",
       "      <th>23</th>\n",
       "      <td>0</td>\n",
       "      <td>1</td>\n",
       "    </tr>\n",
       "    <tr>\n",
       "      <th>24</th>\n",
       "      <td>1</td>\n",
       "      <td>0</td>\n",
       "    </tr>\n",
       "    <tr>\n",
       "      <th>25</th>\n",
       "      <td>0</td>\n",
       "      <td>1</td>\n",
       "    </tr>\n",
       "    <tr>\n",
       "      <th>26</th>\n",
       "      <td>0</td>\n",
       "      <td>1</td>\n",
       "    </tr>\n",
       "    <tr>\n",
       "      <th>27</th>\n",
       "      <td>1</td>\n",
       "      <td>0</td>\n",
       "    </tr>\n",
       "    <tr>\n",
       "      <th>28</th>\n",
       "      <td>0</td>\n",
       "      <td>1</td>\n",
       "    </tr>\n",
       "    <tr>\n",
       "      <th>29</th>\n",
       "      <td>1</td>\n",
       "      <td>0</td>\n",
       "    </tr>\n",
       "    <tr>\n",
       "      <th>30</th>\n",
       "      <td>0</td>\n",
       "      <td>1</td>\n",
       "    </tr>\n",
       "    <tr>\n",
       "      <th>31</th>\n",
       "      <td>1</td>\n",
       "      <td>0</td>\n",
       "    </tr>\n",
       "    <tr>\n",
       "      <th>32</th>\n",
       "      <td>1</td>\n",
       "      <td>0</td>\n",
       "    </tr>\n",
       "    <tr>\n",
       "      <th>33</th>\n",
       "      <td>1</td>\n",
       "      <td>0</td>\n",
       "    </tr>\n",
       "    <tr>\n",
       "      <th>34</th>\n",
       "      <td>1</td>\n",
       "      <td>0</td>\n",
       "    </tr>\n",
       "    <tr>\n",
       "      <th>35</th>\n",
       "      <td>0</td>\n",
       "      <td>1</td>\n",
       "    </tr>\n",
       "    <tr>\n",
       "      <th>36</th>\n",
       "      <td>0</td>\n",
       "      <td>1</td>\n",
       "    </tr>\n",
       "    <tr>\n",
       "      <th>37</th>\n",
       "      <td>1</td>\n",
       "      <td>0</td>\n",
       "    </tr>\n",
       "    <tr>\n",
       "      <th>38</th>\n",
       "      <td>1</td>\n",
       "      <td>0</td>\n",
       "    </tr>\n",
       "    <tr>\n",
       "      <th>39</th>\n",
       "      <td>1</td>\n",
       "      <td>0</td>\n",
       "    </tr>\n",
       "    <tr>\n",
       "      <th>40</th>\n",
       "      <td>1</td>\n",
       "      <td>0</td>\n",
       "    </tr>\n",
       "    <tr>\n",
       "      <th>41</th>\n",
       "      <td>0</td>\n",
       "      <td>1</td>\n",
       "    </tr>\n",
       "    <tr>\n",
       "      <th>42</th>\n",
       "      <td>0</td>\n",
       "      <td>1</td>\n",
       "    </tr>\n",
       "    <tr>\n",
       "      <th>43</th>\n",
       "      <td>0</td>\n",
       "      <td>1</td>\n",
       "    </tr>\n",
       "    <tr>\n",
       "      <th>44</th>\n",
       "      <td>0</td>\n",
       "      <td>1</td>\n",
       "    </tr>\n",
       "    <tr>\n",
       "      <th>45</th>\n",
       "      <td>1</td>\n",
       "      <td>0</td>\n",
       "    </tr>\n",
       "    <tr>\n",
       "      <th>46</th>\n",
       "      <td>0</td>\n",
       "      <td>1</td>\n",
       "    </tr>\n",
       "    <tr>\n",
       "      <th>47</th>\n",
       "      <td>0</td>\n",
       "      <td>1</td>\n",
       "    </tr>\n",
       "    <tr>\n",
       "      <th>48</th>\n",
       "      <td>0</td>\n",
       "      <td>1</td>\n",
       "    </tr>\n",
       "    <tr>\n",
       "      <th>49</th>\n",
       "      <td>0</td>\n",
       "      <td>1</td>\n",
       "    </tr>\n",
       "    <tr>\n",
       "      <th>50</th>\n",
       "      <td>1</td>\n",
       "      <td>0</td>\n",
       "    </tr>\n",
       "    <tr>\n",
       "      <th>51</th>\n",
       "      <td>1</td>\n",
       "      <td>0</td>\n",
       "    </tr>\n",
       "    <tr>\n",
       "      <th>52</th>\n",
       "      <td>0</td>\n",
       "      <td>1</td>\n",
       "    </tr>\n",
       "    <tr>\n",
       "      <th>53</th>\n",
       "      <td>0</td>\n",
       "      <td>1</td>\n",
       "    </tr>\n",
       "    <tr>\n",
       "      <th>54</th>\n",
       "      <td>1</td>\n",
       "      <td>0</td>\n",
       "    </tr>\n",
       "    <tr>\n",
       "      <th>55</th>\n",
       "      <td>1</td>\n",
       "      <td>0</td>\n",
       "    </tr>\n",
       "    <tr>\n",
       "      <th>56</th>\n",
       "      <td>0</td>\n",
       "      <td>1</td>\n",
       "    </tr>\n",
       "    <tr>\n",
       "      <th>57</th>\n",
       "      <td>1</td>\n",
       "      <td>0</td>\n",
       "    </tr>\n",
       "    <tr>\n",
       "      <th>58</th>\n",
       "      <td>0</td>\n",
       "      <td>1</td>\n",
       "    </tr>\n",
       "    <tr>\n",
       "      <th>59</th>\n",
       "      <td>1</td>\n",
       "      <td>0</td>\n",
       "    </tr>\n",
       "  </tbody>\n",
       "</table>\n",
       "</div>"
      ],
      "text/plain": [
       "    0  1\n",
       "0   1  0\n",
       "1   1  0\n",
       "2   0  1\n",
       "3   0  1\n",
       "4   1  0\n",
       "5   1  0\n",
       "6   1  0\n",
       "7   0  1\n",
       "8   1  0\n",
       "9   0  1\n",
       "10  1  0\n",
       "11  1  0\n",
       "12  0  1\n",
       "13  1  0\n",
       "14  0  1\n",
       "15  0  1\n",
       "16  1  0\n",
       "17  0  1\n",
       "18  0  1\n",
       "19  0  1\n",
       "20  1  0\n",
       "21  1  0\n",
       "22  0  1\n",
       "23  0  1\n",
       "24  1  0\n",
       "25  0  1\n",
       "26  0  1\n",
       "27  1  0\n",
       "28  0  1\n",
       "29  1  0\n",
       "30  0  1\n",
       "31  1  0\n",
       "32  1  0\n",
       "33  1  0\n",
       "34  1  0\n",
       "35  0  1\n",
       "36  0  1\n",
       "37  1  0\n",
       "38  1  0\n",
       "39  1  0\n",
       "40  1  0\n",
       "41  0  1\n",
       "42  0  1\n",
       "43  0  1\n",
       "44  0  1\n",
       "45  1  0\n",
       "46  0  1\n",
       "47  0  1\n",
       "48  0  1\n",
       "49  0  1\n",
       "50  1  0\n",
       "51  1  0\n",
       "52  0  1\n",
       "53  0  1\n",
       "54  1  0\n",
       "55  1  0\n",
       "56  0  1\n",
       "57  1  0\n",
       "58  0  1\n",
       "59  1  0"
      ]
     },
     "execution_count": 31,
     "metadata": {},
     "output_type": "execute_result"
    }
   ],
   "source": [
    "T1=pd.get_dummies(T).replace({True:1,False:0})\n",
    "T1"
   ]
  },
  {
   "cell_type": "code",
   "execution_count": 32,
   "id": "825a82f3",
   "metadata": {},
   "outputs": [],
   "source": [
    "F=np.array(F)"
   ]
  },
  {
   "cell_type": "code",
   "execution_count": 33,
   "id": "b8497d1a",
   "metadata": {},
   "outputs": [],
   "source": [
    "F1=F/255"
   ]
  },
  {
   "cell_type": "code",
   "execution_count": 34,
   "id": "3135fa14",
   "metadata": {},
   "outputs": [
    {
     "data": {
      "text/plain": [
       "array([[[0.32941176, 0.3372549 , 0.33333333],\n",
       "        [0.27058824, 0.28235294, 0.27843137],\n",
       "        [0.24313725, 0.25098039, 0.25098039],\n",
       "        ...,\n",
       "        [0.01568627, 0.02745098, 0.02745098],\n",
       "        [0.01568627, 0.02745098, 0.02352941],\n",
       "        [0.00784314, 0.01176471, 0.01176471]],\n",
       "\n",
       "       [[0.55686275, 0.54901961, 0.54901961],\n",
       "        [0.52941176, 0.52156863, 0.52156863],\n",
       "        [0.46666667, 0.4627451 , 0.4627451 ],\n",
       "        ...,\n",
       "        [0.14117647, 0.1372549 , 0.1372549 ],\n",
       "        [0.08235294, 0.07843137, 0.07843137],\n",
       "        [0.05490196, 0.05490196, 0.05490196]],\n",
       "\n",
       "       [[0.50196078, 0.50196078, 0.50196078],\n",
       "        [0.54509804, 0.54509804, 0.54509804],\n",
       "        [0.48235294, 0.48235294, 0.48235294],\n",
       "        ...,\n",
       "        [0.42745098, 0.42745098, 0.42745098],\n",
       "        [0.38431373, 0.38431373, 0.38431373],\n",
       "        [0.38039216, 0.38823529, 0.38823529]],\n",
       "\n",
       "       ...,\n",
       "\n",
       "       [[0.21176471, 0.21176471, 0.21176471],\n",
       "        [0.36470588, 0.36470588, 0.36470588],\n",
       "        [0.40784314, 0.40784314, 0.40784314],\n",
       "        ...,\n",
       "        [0.39215686, 0.39215686, 0.39215686],\n",
       "        [0.38039216, 0.38039216, 0.38039216],\n",
       "        [0.35294118, 0.35294118, 0.35294118]],\n",
       "\n",
       "       [[0.10588235, 0.10588235, 0.10588235],\n",
       "        [0.18823529, 0.18823529, 0.18823529],\n",
       "        [0.25098039, 0.25098039, 0.25098039],\n",
       "        ...,\n",
       "        [0.37254902, 0.37254902, 0.37254902],\n",
       "        [0.36470588, 0.36470588, 0.36470588],\n",
       "        [0.34509804, 0.34509804, 0.34509804]],\n",
       "\n",
       "       [[0.09411765, 0.09411765, 0.09411765],\n",
       "        [0.16862745, 0.16862745, 0.16862745],\n",
       "        [0.21176471, 0.21176471, 0.21176471],\n",
       "        ...,\n",
       "        [0.37254902, 0.37254902, 0.37254902],\n",
       "        [0.36862745, 0.36862745, 0.36862745],\n",
       "        [0.32941176, 0.32941176, 0.32941176]]])"
      ]
     },
     "execution_count": 34,
     "metadata": {},
     "output_type": "execute_result"
    }
   ],
   "source": [
    "F1[1]"
   ]
  },
  {
   "cell_type": "code",
   "execution_count": 35,
   "id": "30e3dbe0",
   "metadata": {},
   "outputs": [
    {
     "data": {
      "text/plain": [
       "(60, 150, 150, 3)"
      ]
     },
     "execution_count": 35,
     "metadata": {},
     "output_type": "execute_result"
    }
   ],
   "source": [
    "F1.shape"
   ]
  },
  {
   "cell_type": "code",
   "execution_count": 36,
   "id": "f2166f00",
   "metadata": {},
   "outputs": [
    {
     "data": {
      "text/plain": [
       "(60, 2)"
      ]
     },
     "execution_count": 36,
     "metadata": {},
     "output_type": "execute_result"
    }
   ],
   "source": [
    "T1.shape"
   ]
  },
  {
   "cell_type": "code",
   "execution_count": 37,
   "id": "3d0b5a1d",
   "metadata": {},
   "outputs": [],
   "source": [
    "T2=np.array(T1)"
   ]
  },
  {
   "cell_type": "code",
   "execution_count": null,
   "id": "73596aad",
   "metadata": {},
   "outputs": [],
   "source": []
  },
  {
   "cell_type": "code",
   "execution_count": 49,
   "id": "b11792f1",
   "metadata": {},
   "outputs": [],
   "source": [
    "from keras.layers import Dense,Lambda,Input,Flatten\n",
    "from keras.models import Model\n",
    "from keras.applications.vgg16 import VGG16\n",
    "from keras.applications.vgg16 import preprocess_input\n",
    "from keras.models import Sequential"
   ]
  },
  {
   "cell_type": "code",
   "execution_count": 50,
   "id": "7eea821c",
   "metadata": {},
   "outputs": [],
   "source": [
    "vgg=VGG16(input_shape=(150,150,3)\n",
    "         ,weights='imagenet'\n",
    "         ,include_top=False)"
   ]
  },
  {
   "cell_type": "code",
   "execution_count": 52,
   "id": "8fd705d9",
   "metadata": {},
   "outputs": [],
   "source": [
    "for i in vgg.layers:\n",
    "    i.trainable=False"
   ]
  },
  {
   "cell_type": "code",
   "execution_count": 53,
   "id": "bd49c920",
   "metadata": {},
   "outputs": [],
   "source": [
    "x=Flatten()(vgg.output)"
   ]
  },
  {
   "cell_type": "code",
   "execution_count": 64,
   "id": "f4bd35b9",
   "metadata": {},
   "outputs": [],
   "source": [
    "z=Dense(2,activation='sigmoid')(x)"
   ]
  },
  {
   "cell_type": "code",
   "execution_count": 65,
   "id": "29e4bc5d",
   "metadata": {},
   "outputs": [],
   "source": [
    "model=Model(vgg.input,z)"
   ]
  },
  {
   "cell_type": "code",
   "execution_count": 66,
   "id": "74c6ce55",
   "metadata": {},
   "outputs": [],
   "source": [
    "model.compile(optimizer='adam',loss='categorical_crossentropy',metrics=['accuracy'])"
   ]
  },
  {
   "cell_type": "code",
   "execution_count": 67,
   "id": "e912f6ff",
   "metadata": {},
   "outputs": [
    {
     "name": "stdout",
     "output_type": "stream",
     "text": [
      "Epoch 1/5\n",
      "\u001b[1m4/4\u001b[0m \u001b[32m━━━━━━━━━━━━━━━━━━━━\u001b[0m\u001b[37m\u001b[0m \u001b[1m6s\u001b[0m 1s/step - accuracy: 0.5417 - loss: 0.7799 - val_accuracy: 0.6667 - val_loss: 0.4226\n",
      "Epoch 2/5\n",
      "\u001b[1m4/4\u001b[0m \u001b[32m━━━━━━━━━━━━━━━━━━━━\u001b[0m\u001b[37m\u001b[0m \u001b[1m4s\u001b[0m 1s/step - accuracy: 0.6277 - loss: 0.5033 - val_accuracy: 0.7778 - val_loss: 0.3171\n",
      "Epoch 3/5\n",
      "\u001b[1m4/4\u001b[0m \u001b[32m━━━━━━━━━━━━━━━━━━━━\u001b[0m\u001b[37m\u001b[0m \u001b[1m6s\u001b[0m 1s/step - accuracy: 0.9231 - loss: 0.2733 - val_accuracy: 1.0000 - val_loss: 0.1104\n",
      "Epoch 4/5\n",
      "\u001b[1m4/4\u001b[0m \u001b[32m━━━━━━━━━━━━━━━━━━━━\u001b[0m\u001b[37m\u001b[0m \u001b[1m6s\u001b[0m 1s/step - accuracy: 0.9052 - loss: 0.2210 - val_accuracy: 1.0000 - val_loss: 0.0712\n",
      "Epoch 5/5\n",
      "\u001b[1m4/4\u001b[0m \u001b[32m━━━━━━━━━━━━━━━━━━━━\u001b[0m\u001b[37m\u001b[0m \u001b[1m9s\u001b[0m 1s/step - accuracy: 0.9631 - loss: 0.1369 - val_accuracy: 1.0000 - val_loss: 0.0774\n"
     ]
    },
    {
     "data": {
      "text/plain": [
       "<keras.src.callbacks.history.History at 0x23f220ec490>"
      ]
     },
     "execution_count": 67,
     "metadata": {},
     "output_type": "execute_result"
    }
   ],
   "source": [
    "model.fit(F1,T2,epochs=5,validation_split=0.15,batch_size=15)"
   ]
  },
  {
   "cell_type": "code",
   "execution_count": 69,
   "id": "13b529da",
   "metadata": {},
   "outputs": [],
   "source": [
    "test=r\"C:\\Users\\hp laptop\\Downloads\\Covid-19\\Normal\\N9.jpg\""
   ]
  },
  {
   "cell_type": "code",
   "execution_count": 70,
   "id": "3b2cde3f",
   "metadata": {},
   "outputs": [
    {
     "data": {
      "text/plain": [
       "array([[[ 1,  1,  1],\n",
       "        [ 9,  9,  9],\n",
       "        [14, 14, 14],\n",
       "        ...,\n",
       "        [17, 17, 17],\n",
       "        [13, 13, 13],\n",
       "        [ 4,  4,  4]],\n",
       "\n",
       "       [[ 0,  0,  0],\n",
       "        [ 8,  8,  8],\n",
       "        [13, 13, 13],\n",
       "        ...,\n",
       "        [17, 17, 17],\n",
       "        [13, 13, 13],\n",
       "        [ 4,  4,  4]],\n",
       "\n",
       "       [[ 0,  0,  0],\n",
       "        [ 7,  7,  7],\n",
       "        [12, 12, 12],\n",
       "        ...,\n",
       "        [17, 17, 17],\n",
       "        [13, 13, 13],\n",
       "        [ 4,  4,  4]],\n",
       "\n",
       "       ...,\n",
       "\n",
       "       [[ 3,  3,  3],\n",
       "        [22, 22, 22],\n",
       "        [28, 28, 28],\n",
       "        ...,\n",
       "        [17, 17, 17],\n",
       "        [ 9,  9,  9],\n",
       "        [ 0,  0,  0]],\n",
       "\n",
       "       [[ 3,  3,  3],\n",
       "        [22, 22, 22],\n",
       "        [28, 28, 28],\n",
       "        ...,\n",
       "        [17, 17, 17],\n",
       "        [ 9,  9,  9],\n",
       "        [ 0,  0,  0]],\n",
       "\n",
       "       [[ 3,  3,  3],\n",
       "        [22, 22, 22],\n",
       "        [28, 28, 28],\n",
       "        ...,\n",
       "        [17, 17, 17],\n",
       "        [ 9,  9,  9],\n",
       "        [ 0,  0,  0]]], dtype=uint8)"
      ]
     },
     "execution_count": 70,
     "metadata": {},
     "output_type": "execute_result"
    }
   ],
   "source": [
    "A1=cv.imread(test)\n",
    "A1"
   ]
  },
  {
   "cell_type": "code",
   "execution_count": 73,
   "id": "e9c4dc81",
   "metadata": {},
   "outputs": [],
   "source": [
    "A2=cv.resize(A1,(150,150))"
   ]
  },
  {
   "cell_type": "code",
   "execution_count": 74,
   "id": "8bf68cf9",
   "metadata": {},
   "outputs": [],
   "source": [
    "A3=np.reshape(A2,(1,150,150,3))"
   ]
  },
  {
   "cell_type": "code",
   "execution_count": 75,
   "id": "ea8636a3",
   "metadata": {},
   "outputs": [
    {
     "data": {
      "text/plain": [
       "<matplotlib.image.AxesImage at 0x23f2dd11a10>"
      ]
     },
     "execution_count": 75,
     "metadata": {},
     "output_type": "execute_result"
    },
    {
     "data": {
      "image/png": "[encoded data removed]",
      "text/plain": [
       "<Figure size 640x480 with 1 Axes>"
      ]
     },
     "metadata": {},
     "output_type": "display_data"
    }
   ],
   "source": [
    "plt.imshow(A1)"
   ]
  },
  {
   "cell_type": "code",
   "execution_count": 76,
   "id": "a94bf51c",
   "metadata": {},
   "outputs": [
    {
     "name": "stdout",
     "output_type": "stream",
     "text": [
      "\u001b[1m1/1\u001b[0m \u001b[32m━━━━━━━━━━━━━━━━━━━━\u001b[0m\u001b[37m\u001b[0m \u001b[1m0s\u001b[0m 310ms/step\n"
     ]
    },
    {
     "data": {
      "text/plain": [
       "array([[2.4382546e-20, 1.0000000e+00]], dtype=float32)"
      ]
     },
     "execution_count": 76,
     "metadata": {},
     "output_type": "execute_result"
    }
   ],
   "source": [
    "pred=model.predict(A3)\n",
    "pred"
   ]
  },
  {
   "cell_type": "code",
   "execution_count": 77,
   "id": "57f5936a",
   "metadata": {},
   "outputs": [
    {
     "data": {
      "text/plain": [
       "2.4382546e-20"
      ]
     },
     "execution_count": 77,
     "metadata": {},
     "output_type": "execute_result"
    }
   ],
   "source": [
    "pred[0][0]"
   ]
  },
  {
   "cell_type": "code",
   "execution_count": 78,
   "id": "d1d0d48a",
   "metadata": {},
   "outputs": [
    {
     "name": "stdout",
     "output_type": "stream",
     "text": [
      "Positive\n"
     ]
    }
   ],
   "source": [
    "if pred[0][0]<10:\n",
    "    print('Positive')\n",
    "else:\n",
    "    print('Normal')"
   ]
  },
  {
   "cell_type": "code",
   "execution_count": 82,
   "id": "6a0e8706",
   "metadata": {},
   "outputs": [],
   "source": [
    "path_test=r\"C:\\Users\\hp laptop\\Downloads\\Covid-19\""
   ]
  },
  {
   "cell_type": "code",
   "execution_count": 83,
   "id": "9aefb6e9",
   "metadata": {},
   "outputs": [
    {
     "data": {
      "text/plain": [
       "['COVID19', 'Normal']"
      ]
     },
     "execution_count": 83,
     "metadata": {},
     "output_type": "execute_result"
    }
   ],
   "source": [
    "dis=os.listdir(path_test)\n",
    "dis"
   ]
  },
  {
   "cell_type": "code",
   "execution_count": 84,
   "id": "c1090e44",
   "metadata": {},
   "outputs": [],
   "source": [
    "\n",
    "Data1=[]\n",
    "for i in dis:\n",
    "    A=os.path.join(path_test,i)\n",
    "    #print(i)\n",
    "    #print(A)\n",
    "    for j in os.listdir(A):\n",
    "        B=os.path.join(A,j)\n",
    "        #print(B)\n",
    "        img=cv.imread(B)\n",
    "        #print(img.shape)\n",
    "        #plt.imshow(img)\n",
    "        #plt.show()\n",
    "        array=cv.resize(img,(150,150))\n",
    "        #print(array.shape)\n",
    "        #plt.imshow(array)\n",
    "        #plt.show()\n",
    "        labels=dis.index(i)\n",
    "        #print(labels)\n",
    "        Data1.append([array,labels])                                                 "
   ]
  },
  {
   "cell_type": "code",
   "execution_count": 85,
   "id": "8892b27d",
   "metadata": {},
   "outputs": [],
   "source": [
    "F=[]\n",
    "T=[]\n",
    "for i,j in Data1:\n",
    "    F.append(i)\n",
    "    T.append(j)"
   ]
  },
  {
   "cell_type": "code",
   "execution_count": 86,
   "id": "414d15be",
   "metadata": {},
   "outputs": [],
   "source": [
    "F=np.array(F)\n",
    "T=np.array(T)"
   ]
  },
  {
   "cell_type": "code",
   "execution_count": 87,
   "id": "a720d9ad",
   "metadata": {},
   "outputs": [],
   "source": [
    "F=F/255"
   ]
  },
  {
   "cell_type": "code",
   "execution_count": 88,
   "id": "0a877a73",
   "metadata": {},
   "outputs": [
    {
     "data": {
      "text/plain": [
       "array([0, 0, 0, 0, 0, 0, 0, 0, 0, 0, 0, 0, 0, 0, 0, 0, 0, 0, 0, 0, 0, 0,\n",
       "       0, 0, 0, 0, 0, 0, 0, 0, 1, 1, 1, 1, 1, 1, 1, 1, 1, 1, 1, 1, 1, 1,\n",
       "       1, 1, 1, 1, 1, 1, 1, 1, 1, 1, 1, 1, 1, 1, 1, 1])"
      ]
     },
     "execution_count": 88,
     "metadata": {},
     "output_type": "execute_result"
    }
   ],
   "source": [
    "T"
   ]
  },
  {
   "cell_type": "code",
   "execution_count": 89,
   "id": "1e9577ca",
   "metadata": {},
   "outputs": [
    {
     "name": "stdout",
     "output_type": "stream",
     "text": [
      "\u001b[1m2/2\u001b[0m \u001b[32m━━━━━━━━━━━━━━━━━━━━\u001b[0m\u001b[37m\u001b[0m \u001b[1m4s\u001b[0m 2s/step\n"
     ]
    },
    {
     "data": {
      "text/plain": [
       "array([[0.8994886 , 0.37398836],\n",
       "       [0.96997523, 0.13946742],\n",
       "       [0.96243787, 0.16856518],\n",
       "       [0.74021506, 0.66028017],\n",
       "       [0.8861138 , 0.3898818 ],\n",
       "       [0.92280704, 0.24669968],\n",
       "       [0.96586156, 0.17692846],\n",
       "       [0.95225906, 0.15358838],\n",
       "       [0.96750015, 0.14797322],\n",
       "       [0.9687418 , 0.22847131],\n",
       "       [0.8224592 , 0.55774593],\n",
       "       [0.9385572 , 0.2925246 ],\n",
       "       [0.945775  , 0.2380348 ],\n",
       "       [0.91250217, 0.42336085],\n",
       "       [0.95561874, 0.13041322],\n",
       "       [0.9706145 , 0.1098004 ],\n",
       "       [0.88861734, 0.3933554 ],\n",
       "       [0.7293166 , 0.7218444 ],\n",
       "       [0.8549511 , 0.48108834],\n",
       "       [0.96130526, 0.17502165],\n",
       "       [0.94928616, 0.2086772 ],\n",
       "       [0.77551746, 0.63823736],\n",
       "       [0.9104954 , 0.29769292],\n",
       "       [0.9792087 , 0.0982091 ],\n",
       "       [0.8618245 , 0.5095362 ],\n",
       "       [0.8761605 , 0.38557473],\n",
       "       [0.97989583, 0.15219444],\n",
       "       [0.9505943 , 0.33558944],\n",
       "       [0.85693157, 0.5126851 ],\n",
       "       [0.9406047 , 0.28119966],\n",
       "       [0.40349403, 0.91212726],\n",
       "       [0.5338545 , 0.89675945],\n",
       "       [0.30693308, 0.94125074],\n",
       "       [0.2100259 , 0.97148144],\n",
       "       [0.24478659, 0.91370183],\n",
       "       [0.62090474, 0.8130647 ],\n",
       "       [0.64067453, 0.7977766 ],\n",
       "       [0.52763927, 0.89395165],\n",
       "       [0.31957856, 0.9412749 ],\n",
       "       [0.5434265 , 0.8491739 ],\n",
       "       [0.35821766, 0.8990137 ],\n",
       "       [0.24916044, 0.9531218 ],\n",
       "       [0.35821766, 0.8990137 ],\n",
       "       [0.44542363, 0.8780521 ],\n",
       "       [0.46090585, 0.8762021 ],\n",
       "       [0.50954103, 0.89216644],\n",
       "       [0.28432846, 0.9159192 ],\n",
       "       [0.28976616, 0.9328076 ],\n",
       "       [0.32611585, 0.91108674],\n",
       "       [0.49879873, 0.89197654],\n",
       "       [0.28654438, 0.9044043 ],\n",
       "       [0.22850181, 0.9340974 ],\n",
       "       [0.23253408, 0.9532729 ],\n",
       "       [0.3433807 , 0.91128474],\n",
       "       [0.41103077, 0.89129204],\n",
       "       [0.38933662, 0.8984229 ],\n",
       "       [0.2632321 , 0.948314  ],\n",
       "       [0.5392794 , 0.8813941 ],\n",
       "       [0.3867232 , 0.8886763 ],\n",
       "       [0.32424852, 0.94764143]], dtype=float32)"
      ]
     },
     "execution_count": 89,
     "metadata": {},
     "output_type": "execute_result"
    }
   ],
   "source": [
    "pred2=model.predict(F)\n",
    "pred2"
   ]
  },
  {
   "cell_type": "code",
   "execution_count": 90,
   "id": "ec86c900",
   "metadata": {},
   "outputs": [],
   "source": [
    "Final=[]\n",
    "for i in pred2:\n",
    "    Final.append(np.argmax(i))"
   ]
  },
  {
   "cell_type": "code",
   "execution_count": 91,
   "id": "963276d7",
   "metadata": {},
   "outputs": [
    {
     "data": {
      "text/plain": [
       "[0,\n",
       " 0,\n",
       " 0,\n",
       " 0,\n",
       " 0,\n",
       " 0,\n",
       " 0,\n",
       " 0,\n",
       " 0,\n",
       " 0,\n",
       " 0,\n",
       " 0,\n",
       " 0,\n",
       " 0,\n",
       " 0,\n",
       " 0,\n",
       " 0,\n",
       " 0,\n",
       " 0,\n",
       " 0,\n",
       " 0,\n",
       " 0,\n",
       " 0,\n",
       " 0,\n",
       " 0,\n",
       " 0,\n",
       " 0,\n",
       " 0,\n",
       " 0,\n",
       " 0,\n",
       " 1,\n",
       " 1,\n",
       " 1,\n",
       " 1,\n",
       " 1,\n",
       " 1,\n",
       " 1,\n",
       " 1,\n",
       " 1,\n",
       " 1,\n",
       " 1,\n",
       " 1,\n",
       " 1,\n",
       " 1,\n",
       " 1,\n",
       " 1,\n",
       " 1,\n",
       " 1,\n",
       " 1,\n",
       " 1,\n",
       " 1,\n",
       " 1,\n",
       " 1,\n",
       " 1,\n",
       " 1,\n",
       " 1,\n",
       " 1,\n",
       " 1,\n",
       " 1,\n",
       " 1]"
      ]
     },
     "execution_count": 91,
     "metadata": {},
     "output_type": "execute_result"
    }
   ],
   "source": [
    "Final"
   ]
  },
  {
   "cell_type": "code",
   "execution_count": 92,
   "id": "668faccb",
   "metadata": {},
   "outputs": [
    {
     "data": {
      "text/plain": [
       "array([0, 0, 0, 0, 0, 0, 0, 0, 0, 0, 0, 0, 0, 0, 0, 0, 0, 0, 0, 0, 0, 0,\n",
       "       0, 0, 0, 0, 0, 0, 0, 0, 1, 1, 1, 1, 1, 1, 1, 1, 1, 1, 1, 1, 1, 1,\n",
       "       1, 1, 1, 1, 1, 1, 1, 1, 1, 1, 1, 1, 1, 1, 1, 1])"
      ]
     },
     "execution_count": 92,
     "metadata": {},
     "output_type": "execute_result"
    }
   ],
   "source": [
    "T"
   ]
  },
  {
   "cell_type": "code",
   "execution_count": 95,
   "id": "0cdfd515",
   "metadata": {},
   "outputs": [
    {
     "data": {
      "text/plain": [
       "1.0"
      ]
     },
     "execution_count": 95,
     "metadata": {},
     "output_type": "execute_result"
    }
   ],
   "source": [
    "from sklearn.metrics import classification_report,confusion_matrix,accuracy_score,ConfusionMatrixDisplay\n",
    "accuracy_score(T,Final)\n"
   ]
  },
  {
   "cell_type": "code",
   "execution_count": 96,
   "id": "2fcb53e3",
   "metadata": {},
   "outputs": [
    {
     "data": {
      "text/plain": [
       "array([[30,  0],\n",
       "       [ 0, 30]], dtype=int64)"
      ]
     },
     "execution_count": 96,
     "metadata": {},
     "output_type": "execute_result"
    }
   ],
   "source": [
    "c=confusion_matrix(T,Final)\n",
    "c"
   ]
  },
  {
   "cell_type": "code",
   "execution_count": 97,
   "id": "ed8a0eac",
   "metadata": {
    "scrolled": true
   },
   "outputs": [
    {
     "data": {
      "image/png": "[encoded data removed]",
      "text/plain": [
       "<Figure size 640x480 with 2 Axes>"
      ]
     },
     "metadata": {},
     "output_type": "display_data"
    }
   ],
   "source": [
    "Cm=ConfusionMatrixDisplay(confusion_matrix=c)\n",
    "Cm.plot()\n",
    "plt.show()"
   ]
  },
  {
   "cell_type": "code",
   "execution_count": 98,
   "id": "cde073e2",
   "metadata": {},
   "outputs": [
    {
     "data": {
      "text/plain": [
       "array([[30,  0],\n",
       "       [ 0, 30]], dtype=int64)"
      ]
     },
     "execution_count": 98,
     "metadata": {},
     "output_type": "execute_result"
    }
   ],
   "source": [
    "confusion_matrix(T,Final)"
   ]
  },
  {
   "cell_type": "code",
   "execution_count": 99,
   "id": "0540c6be",
   "metadata": {},
   "outputs": [
    {
     "name": "stdout",
     "output_type": "stream",
     "text": [
      "              precision    recall  f1-score   support\n",
      "\n",
      "           0       1.00      1.00      1.00        30\n",
      "           1       1.00      1.00      1.00        30\n",
      "\n",
      "    accuracy                           1.00        60\n",
      "   macro avg       1.00      1.00      1.00        60\n",
      "weighted avg       1.00      1.00      1.00        60\n",
      "\n"
     ]
    }
   ],
   "source": [
    "print(classification_report(T,Final))"
   ]
  },
  {
   "cell_type": "code",
   "execution_count": null,
   "id": "d4ab6b4f",
   "metadata": {},
   "outputs": [],
   "source": []
  }
 ],
 "metadata": {
  "kernelspec": {
   "display_name": "Python 3 (ipykernel)",
   "language": "python",
   "name": "python3"
  },
  "language_info": {
   "codemirror_mode": {
    "name": "ipython",
    "version": 3
   },
   "file_extension": ".py",
   "mimetype": "text/x-python",
   "name": "python",
   "nbconvert_exporter": "python",
   "pygments_lexer": "ipython3",
   "version": "3.11.4"
  }
 },
 "nbformat": 4,
 "nbformat_minor": 5
}
